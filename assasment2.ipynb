{
 "cells": [
  {
   "cell_type": "code",
   "execution_count": 29,
   "metadata": {
    "slideshow": {
     "slide_type": "subslide"
    }
   },
   "outputs": [
    {
     "name": "stdout",
     "output_type": "stream",
     "text": [
      "   Applicant_ID    Sex Age Credit_Score  Late_Payments  Months_In_Job  \\\n",
      "0        744488  Women  50          607              5           29.0   \n",
      "1        350833      M  64          533              8           21.0   \n",
      "2        466037      1  34          474             12            NaN   \n",
      "3             A      0  29          551             13            3.0   \n",
      "4        455703      F  46          768              0           13.0   \n",
      "5        347843    NaN  37          426              8           13.0   \n",
      "6        868476      M   M          723              1           33.0   \n",
      "7        744628      M  42            X              5           22.0   \n",
      "8        813097      M  51          444             12            4.0   \n",
      "9        792339      F  44          489              9            9.0   \n",
      "10       915754      F  61          768              2           58.0   \n",
      "11       772785    NaN  29          503             10           17.0   \n",
      "12       333329      M  30          590              5            8.0   \n",
      "13       915412      M  37          439              4           19.0   \n",
      "14       865393      F  35          767              0           40.0   \n",
      "\n",
      "    Debt_Income_Ratio  Loan_Amt  Liquid_Assets  Num_Credit_Lines  Credit_Risk  \n",
      "0               3.414    103519           2696               6.0     Moderate  \n",
      "1               3.737     74868           5336               8.0     Moderate  \n",
      "2               5.061     93468           1785               4.0         High  \n",
      "3               5.926     41708           2104              10.0         High  \n",
      "4               1.910    318995          11523               3.0          Low  \n",
      "5               4.727     58569           3255               NaN         High  \n",
      "6               1.600    192875          14488               3.0          Low  \n",
      "7               4.150    154386           4586               4.0     Moderate  \n",
      "8              11.475    208354           2946               9.0  DO NOT LEND  \n",
      "9               5.300    125987           3911               4.0         High  \n",
      "10              1.900    221217          11357               5.0          Low  \n",
      "11              7.618    141109           2126               8.0         High  \n",
      "12              4.235    225042           2651               5.0     Moderate  \n",
      "13              5.275    158681           2409               9.0         High  \n",
      "14              2.700    271763          18820               3.0          Low  \n"
     ]
    },
    {
     "data": {
      "text/plain": [
       "Applicant_ID         0\n",
       "Sex                  2\n",
       "Age                  0\n",
       "Credit_Score         0\n",
       "Late_Payments        0\n",
       "Months_In_Job        1\n",
       "Debt_Income_Ratio    0\n",
       "Loan_Amt             0\n",
       "Liquid_Assets        0\n",
       "Num_Credit_Lines     1\n",
       "Credit_Risk          0\n",
       "dtype: int64"
      ]
     },
     "execution_count": 29,
     "metadata": {},
     "output_type": "execute_result"
    }
   ],
   "source": [
    "import pandas as pd\n",
    "\n",
    "df = pd.read_csv('asn2.csv')\n",
    "print(df)\n",
    "df.isnull().sum()"
   ]
  },
  {
   "cell_type": "code",
   "execution_count": 30,
   "metadata": {},
   "outputs": [
    {
     "name": "stderr",
     "output_type": "stream",
     "text": [
      "C:\\Users\\GF63\\AppData\\Local\\Temp\\ipykernel_23132\\1995632756.py:3: FutureWarning: DataFrame.interpolate with object dtype is deprecated and will raise in a future version. Call obj.infer_objects(copy=False) before interpolating instead.\n",
      "  df = df.interpolate(method ='linear', limit_direction ='forward')\n"
     ]
    }
   ],
   "source": [
    "#Clear anomali data by Applicat_ID column\n",
    "df = df[pd.to_numeric(df['Applicant_ID'], errors='coerce').notnull()]\n",
    "df = df.interpolate(method ='linear', limit_direction ='forward')\n",
    "\n",
    "#Clear data Sex column\n",
    "df['Sex'] = df['Sex'].str.replace('Women','F')\n",
    "df['Sex'] = df['Sex'].str.replace('1','F')\n",
    "df['Sex'] = df['Sex'].str.replace('0','M')\n",
    "df['Sex'] = df['Sex'].ffill()\n",
    "\n",
    "#Clear data Age column\n",
    "df['Age'] = df['Age'].str.replace('M','0')\n",
    "df['Age'] = df['Age'].astype(int)\n",
    "df['Age'] = df['Age'].replace(0,df['Age'].mean(numeric_only=True))\n",
    "\n",
    "#Clear data Credit Score column\n",
    "df['Credit_Score'] = df['Credit_Score'].str.replace('X','0')\n",
    "df['Credit_Score'] = df['Credit_Score'].astype(int)\n",
    "df['Credit_Score'] = df['Credit_Score'].replace(0,df['Credit_Score'].mean(numeric_only=True).round(0))\n",
    "\n",
    "#Clear data Credit Risk column\n",
    "df['Credit_Risk'] = df['Credit_Risk'].str.replace('DO NOT LEND','High')\n"
   ]
  },
  {
   "cell_type": "code",
   "execution_count": 31,
   "metadata": {},
   "outputs": [
    {
     "data": {
      "text/plain": [
       "Applicant_ID         0\n",
       "Sex                  0\n",
       "Age                  0\n",
       "Credit_Score         0\n",
       "Late_Payments        0\n",
       "Months_In_Job        0\n",
       "Debt_Income_Ratio    0\n",
       "Loan_Amt             0\n",
       "Liquid_Assets        0\n",
       "Num_Credit_Lines     0\n",
       "Credit_Risk          0\n",
       "dtype: int64"
      ]
     },
     "execution_count": 31,
     "metadata": {},
     "output_type": "execute_result"
    }
   ],
   "source": [
    "df.isnull().sum()"
   ]
  },
  {
   "cell_type": "code",
   "execution_count": 32,
   "metadata": {},
   "outputs": [
    {
     "name": "stdout",
     "output_type": "stream",
     "text": [
      "   Applicant_ID Sex  Age  Credit_Score  Late_Payments  Months_In_Job  \\\n",
      "0        744488   F   50           607              5           29.0   \n",
      "1        350833   M   64           533              8           21.0   \n",
      "2        466037   F   34           474             12           17.0   \n",
      "4        455703   F   46           768              0           13.0   \n",
      "5        347843   F   37           426              8           13.0   \n",
      "6        868476   M   40           723              1           33.0   \n",
      "7        744628   M   42           538              5           22.0   \n",
      "8        813097   M   51           444             12            4.0   \n",
      "9        792339   F   44           489              9            9.0   \n",
      "10       915754   F   61           768              2           58.0   \n",
      "11       772785   F   29           503             10           17.0   \n",
      "12       333329   M   30           590              5            8.0   \n",
      "13       915412   M   37           439              4           19.0   \n",
      "14       865393   F   35           767              0           40.0   \n",
      "\n",
      "    Debt_Income_Ratio  Loan_Amt  Liquid_Assets  Num_Credit_Lines Credit_Risk  \n",
      "0               3.414    103519           2696               6.0    Moderate  \n",
      "1               3.737     74868           5336               8.0    Moderate  \n",
      "2               5.061     93468           1785               4.0        High  \n",
      "4               1.910    318995          11523               3.0         Low  \n",
      "5               4.727     58569           3255               3.0        High  \n",
      "6               1.600    192875          14488               3.0         Low  \n",
      "7               4.150    154386           4586               4.0    Moderate  \n",
      "8              11.475    208354           2946               9.0        High  \n",
      "9               5.300    125987           3911               4.0        High  \n",
      "10              1.900    221217          11357               5.0         Low  \n",
      "11              7.618    141109           2126               8.0        High  \n",
      "12              4.235    225042           2651               5.0    Moderate  \n",
      "13              5.275    158681           2409               9.0        High  \n",
      "14              2.700    271763          18820               3.0         Low  \n"
     ]
    }
   ],
   "source": [
    "print(df)"
   ]
  }
 ],
 "metadata": {
  "kernelspec": {
   "display_name": "Python 3",
   "language": "python",
   "name": "python3"
  },
  "language_info": {
   "codemirror_mode": {
    "name": "ipython",
    "version": 3
   },
   "file_extension": ".py",
   "mimetype": "text/x-python",
   "name": "python",
   "nbconvert_exporter": "python",
   "pygments_lexer": "ipython3",
   "version": "3.10.7"
  }
 },
 "nbformat": 4,
 "nbformat_minor": 2
}
